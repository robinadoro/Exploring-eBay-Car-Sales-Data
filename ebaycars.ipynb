{
 "cells": [
  {
   "cell_type": "markdown",
   "metadata": {},
   "source": [
    "In this project, I'll be working with a dataset of used cars from eBay Kleinanzeigen, a [classifieds](https://en.wikipedia.org/wiki/Classified_advertising) section of the [German eBay](https://data.world/data-society/used-cars-data) website.\n",
    "\n",
    "A few modifications have been made from the original dataset:\n",
    "\n",
    "50,000 data points from the full dataset have been sampled, to ensure the code runs quickly in the hosted environment.\n",
    "The dataset has been dirtied a bit to more closely resemble what you would expect from a scraped dataset (the version uploaded to Kaggle was cleaned to be easier to work with).\n",
    "Data dictionary for the dataset:\n",
    "\n",
    "    dateCrawled - When the ad was first crawled. All field-values are taken from this date.\n",
    "    name - Name of the car.\n",
    "    seller - Whether the seller is private or a dealer.\n",
    "    offerType - The type of listing.\n",
    "    price - The listed selling price of the car.\n",
    "    abtest - Whether the listing is included in an A/B test.\n",
    "    vehicleType - The type of vehicle.\n",
    "    yearOfRegistration - The year in which the car was first registered.\n",
    "    gearbox - The type of transmission.\n",
    "    powerPS - The power of the car in PS.\n",
    "    model - The car model name.\n",
    "    odometer - How many kilometers the car has driven.\n",
    "    monthOfRegistration - The month in which the car was first registered.\n",
    "    fuelType - What type of fuel the car uses.\n",
    "    brand - The brand of the car.\n",
    "    notRepairedDamage - If the car has a damage which is not yet repaired.\n",
    "    dateCreated - The date the eBay listing was created.\n",
    "    nrOfPictures - The number of pictures in the ad.\n",
    "    postalCode - The postal code for the location of the vehicle.\n",
    "    lastSeenOnline - When the crawler saw this ad last online.\n",
    "\n",
    "The aim of this project is to clean the dataset and perform some initial analysis on it"
   ]
  },
  {
   "cell_type": "code",
   "execution_count": null,
   "metadata": {},
   "outputs": [],
   "source": []
  }
 ],
 "metadata": {
  "kernelspec": {
   "display_name": "Python 3",
   "language": "python",
   "name": "python3"
  },
  "language_info": {
   "name": "python",
   "version": "3.12.4"
  }
 },
 "nbformat": 4,
 "nbformat_minor": 2
}
